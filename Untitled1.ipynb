{
 "cells": [
  {
   "cell_type": "code",
   "execution_count": 1,
   "id": "c56cc685-0523-4fb2-8632-f5311556b0ee",
   "metadata": {},
   "outputs": [
    {
     "name": "stdout",
     "output_type": "stream",
     "text": [
      "0\n"
     ]
    }
   ],
   "source": [
    "#No1\n",
    "a = 15 % 5  \n",
    "print (a)"
   ]
  },
  {
   "cell_type": "code",
   "execution_count": 2,
   "id": "b2810409-b162-4aea-9714-36caa9ccf860",
   "metadata": {},
   "outputs": [
    {
     "name": "stdout",
     "output_type": "stream",
     "text": [
      "False\n"
     ]
    }
   ],
   "source": [
    "\n",
    "b = 12 + 3 * 5 == 75  \n",
    "print (b)"
   ]
  },
  {
   "cell_type": "code",
   "execution_count": 3,
   "id": "d31b867d-c480-433c-8067-a551f258d146",
   "metadata": {},
   "outputs": [
    {
     "name": "stdout",
     "output_type": "stream",
     "text": [
      "PML15523\n"
     ]
    }
   ],
   "source": [
    "c = \"PML\" + \"15523\"  \n",
    "print(c)"
   ]
  },
  {
   "cell_type": "code",
   "execution_count": 17,
   "id": "7846d3fa-0332-4851-abc3-188986201462",
   "metadata": {},
   "outputs": [
    {
     "name": "stdout",
     "output_type": "stream",
     "text": [
      "334\n"
     ]
    }
   ],
   "source": [
    "d = 100+234\n",
    "print(d)"
   ]
  },
  {
   "cell_type": "code",
   "execution_count": 5,
   "id": "0370351d-a987-4f0c-b3af-7416347ab69d",
   "metadata": {},
   "outputs": [
    {
     "name": "stdout",
     "output_type": "stream",
     "text": [
      "False\n"
     ]
    }
   ],
   "source": [
    "e = ((11 % 3) + 2) != 8 / 2 \n",
    "print(e)"
   ]
  },
  {
   "cell_type": "code",
   "execution_count": 6,
   "id": "77834818-78a6-4f8b-8182-add3372b7b84",
   "metadata": {},
   "outputs": [
    {
     "name": "stdout",
     "output_type": "stream",
     "text": [
      "False\n"
     ]
    }
   ],
   "source": [
    "#NO2\n",
    "A = (11 - 4) == (4 + 5) \n",
    "print(A)"
   ]
  },
  {
   "cell_type": "code",
   "execution_count": 7,
   "id": "b25561e6-5fa9-4978-a317-81c0e4f054a0",
   "metadata": {},
   "outputs": [
    {
     "name": "stdout",
     "output_type": "stream",
     "text": [
      "True\n"
     ]
    }
   ],
   "source": [
    "B = ((11 % 3) + 5) != (4 % 2)  \n",
    "print(B)"
   ]
  },
  {
   "cell_type": "code",
   "execution_count": 8,
   "id": "a378d9ec-14ab-42b5-bc77-13a2a7799ad1",
   "metadata": {},
   "outputs": [
    {
     "name": "stdout",
     "output_type": "stream",
     "text": [
      "False\n"
     ]
    }
   ],
   "source": [
    "C = (5 - 3) == (11 % 2 + 5)  \n",
    "print(C)"
   ]
  },
  {
   "cell_type": "code",
   "execution_count": 10,
   "id": "e10fa7c8-7d69-401d-ad8f-c6d2d628c4f2",
   "metadata": {},
   "outputs": [
    {
     "name": "stdout",
     "output_type": "stream",
     "text": [
      "True\n"
     ]
    }
   ],
   "source": [
    "D = (4 + 5) != ((11 * 2) % 2)  \n",
    "print(D)"
   ]
  },
  {
   "cell_type": "code",
   "execution_count": 11,
   "id": "ece985da-4a0e-44c0-8c30-7a290e5e4e46",
   "metadata": {},
   "outputs": [
    {
     "name": "stdout",
     "output_type": "stream",
     "text": [
      "True\n"
     ]
    }
   ],
   "source": [
    "E = ((5 % 3) + 11) > (4 % 2)  \n",
    "print(E)"
   ]
  },
  {
   "cell_type": "code",
   "execution_count": 12,
   "id": "9c386e5c-552d-43d4-8555-46fe515022ff",
   "metadata": {},
   "outputs": [
    {
     "name": "stdout",
     "output_type": "stream",
     "text": [
      "True\n"
     ]
    }
   ],
   "source": [
    "F = (4 + 11) <= (5 * 5)  \n",
    "print(F)"
   ]
  },
  {
   "cell_type": "code",
   "execution_count": 13,
   "id": "919f692d-42ab-4cc3-9c37-a68b593ea643",
   "metadata": {},
   "outputs": [
    {
     "data": {
      "text/plain": [
       "'HoneyBooBooBoo'"
      ]
     },
     "execution_count": 13,
     "metadata": {},
     "output_type": "execute_result"
    }
   ],
   "source": [
    "#isian Singkat NO 1\n",
    "\n",
    "\"Honey\" + \"Boo\" * 3  \n"
   ]
  },
  {
   "cell_type": "code",
   "execution_count": 14,
   "id": "6be6e193-e9dd-4137-a01c-d3e500683f68",
   "metadata": {},
   "outputs": [
    {
     "data": {
      "text/plain": [
       "'Berlin'"
      ]
     },
     "execution_count": 14,
     "metadata": {},
     "output_type": "execute_result"
    }
   ],
   "source": [
    "#isian Singkat NO 2\n",
    "\n",
    "capitals = {}\n",
    "capitals['Murica'] = 'Warshington'\n",
    "capitals['Germany'] = 'Bonn'\n",
    "capitals['France'] = 'Paris'\n",
    "capitals['England'] = 'London'\n",
    "capitals['Germany'] = 'Berlin'\n",
    "\n",
    "capitals['Germany']  \n"
   ]
  },
  {
   "cell_type": "code",
   "execution_count": 19,
   "id": "b175f337-1d03-4c8a-97bc-a2ed6761a610",
   "metadata": {},
   "outputs": [
    {
     "name": "stdout",
     "output_type": "stream",
     "text": [
      "32\n"
     ]
    }
   ],
   "source": [
    "#isian Singkat NO 3\n",
    "\n",
    "a = 23\n",
    "b = 9\n",
    "print(a + b)  \n"
   ]
  },
  {
   "cell_type": "code",
   "execution_count": 20,
   "id": "53b28ab9-6bc3-47d3-903a-76477706ab53",
   "metadata": {},
   "outputs": [
    {
     "data": {
      "text/plain": [
       "'b'"
      ]
     },
     "execution_count": 20,
     "metadata": {},
     "output_type": "execute_result"
    }
   ],
   "source": [
    "#isian Singkat NO 4\n",
    "\n",
    "letters = [\"a\", \"b\", \"o\", \"c\", \"p\"]\n",
    "letters[1]  \n"
   ]
  },
  {
   "cell_type": "code",
   "execution_count": 21,
   "id": "29d215d9-3466-4cb5-ab2a-50d13a72f9c7",
   "metadata": {},
   "outputs": [
    {
     "data": {
      "text/plain": [
       "'c'"
      ]
     },
     "execution_count": 21,
     "metadata": {},
     "output_type": "execute_result"
    }
   ],
   "source": [
    "letters[len(letters) - 2]  \n"
   ]
  },
  {
   "cell_type": "code",
   "execution_count": 22,
   "id": "30100a28-1d9e-40cd-82ef-074c0442a61a",
   "metadata": {},
   "outputs": [
    {
     "data": {
      "text/plain": [
       "['a', 'b', 'o', 'c', 'p', 'x']"
      ]
     },
     "execution_count": 22,
     "metadata": {},
     "output_type": "execute_result"
    }
   ],
   "source": [
    "letters + [\"x\"]  \n"
   ]
  },
  {
   "cell_type": "code",
   "execution_count": 23,
   "id": "75e9e921-97c3-459d-a982-6a399c27047b",
   "metadata": {},
   "outputs": [
    {
     "data": {
      "text/plain": [
       "['a', 'b', 'o', 'c', 'p']"
      ]
     },
     "execution_count": 23,
     "metadata": {},
     "output_type": "execute_result"
    }
   ],
   "source": [
    "letters  \n"
   ]
  },
  {
   "cell_type": "code",
   "execution_count": 24,
   "id": "f8394c61-309c-4ccc-b256-6c0ce9b42228",
   "metadata": {},
   "outputs": [
    {
     "data": {
      "text/plain": [
       "'h a n d s'"
      ]
     },
     "execution_count": 24,
     "metadata": {},
     "output_type": "execute_result"
    }
   ],
   "source": [
    "#isian Singkat NO 5\n",
    "\n",
    "' '.join('h a n d s'.split()) \n"
   ]
  },
  {
   "cell_type": "code",
   "execution_count": 25,
   "id": "fd04ca82-5079-4d75-9669-7e2f2df46f4a",
   "metadata": {},
   "outputs": [
    {
     "name": "stdout",
     "output_type": "stream",
     "text": [
      "deux\n"
     ]
    }
   ],
   "source": [
    "#isian Singkat NO 6\n",
    "\n",
    "import json\n",
    "\n",
    "json_string = \"\"\"\n",
    "[\n",
    "    {\"1\": \"one\", \"2\": \"two\", \"3\": \"three\"},\n",
    "    {\"1\": \"un\", \"2\": \"deux\", \"3\": \"trois\"},\n",
    "    {\"1\": \"eins\", \"2\": \"zwei\", \"3\": \"drei\"}\n",
    "]\n",
    "\"\"\"\n",
    "\n",
    "try:\n",
    "    data = json.loads(json_string)\n",
    "    result = data[1][\"2\"]  \n",
    "    print(result)\n",
    "except json.JSONDecodeError as e:\n",
    "    print(f\"JSON decoding error: {e}\")\n",
    "except KeyError as e:\n",
    "    print(f\"Key error: {e}\")\n",
    "except IndexError as e:\n",
    "    print(f\"Index error: {e}\")"
   ]
  },
  {
   "cell_type": "code",
   "execution_count": 26,
   "id": "bb3875ea-2e78-4286-9ae9-286d07d2d312",
   "metadata": {},
   "outputs": [
    {
     "data": {
      "text/plain": [
       "0"
      ]
     },
     "execution_count": 26,
     "metadata": {},
     "output_type": "execute_result"
    }
   ],
   "source": [
    "#isian Singkat NO 7\n",
    "\n",
    "def pembagi_indeks(nums, divisor):\n",
    "    for i in range(len(nums)):\n",
    "        if nums[i] % divisor == 0:\n",
    "            return i\n",
    "    return -1\n",
    "\n",
    "vals = [100, 66, 55, 64, 41, 35, 18, 64]\n",
    "pembagi_indeks(vals, 5)  \n"
   ]
  },
  {
   "cell_type": "code",
   "execution_count": 27,
   "id": "352f096e-3351-4b41-8cc0-97e02003deaa",
   "metadata": {},
   "outputs": [
    {
     "name": "stdout",
     "output_type": "stream",
     "text": [
      "4\n"
     ]
    }
   ],
   "source": [
    "#Isisan Singkat NO 8\n",
    "\n",
    "def mystery(n, m):\n",
    "    p = 0\n",
    "    e = 0\n",
    "    while p < n:\n",
    "        p = n\n",
    "        e = m\n",
    "    return p\n",
    "\n",
    "print(mystery(4, 3)) \n"
   ]
  },
  {
   "cell_type": "code",
   "execution_count": null,
   "id": "93f4b5f4-9fe2-47a3-b3d0-418d5b5e9d4c",
   "metadata": {},
   "outputs": [],
   "source": []
  }
 ],
 "metadata": {
  "kernelspec": {
   "display_name": "Python 3 (ipykernel)",
   "language": "python",
   "name": "python3"
  },
  "language_info": {
   "codemirror_mode": {
    "name": "ipython",
    "version": 3
   },
   "file_extension": ".py",
   "mimetype": "text/x-python",
   "name": "python",
   "nbconvert_exporter": "python",
   "pygments_lexer": "ipython3",
   "version": "3.8.0"
  }
 },
 "nbformat": 4,
 "nbformat_minor": 5
}
